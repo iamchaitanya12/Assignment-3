{
  "nbformat": 4,
  "nbformat_minor": 0,
  "metadata": {
    "colab": {
      "provenance": []
    },
    "kernelspec": {
      "name": "python3",
      "display_name": "Python 3"
    },
    "language_info": {
      "name": "python"
    }
  },
  "cells": [
    {
      "cell_type": "code",
      "execution_count": 2,
      "metadata": {
        "colab": {
          "base_uri": "https://localhost:8080/"
        },
        "id": "6VLK2eWtOdop",
        "outputId": "cfc43100-0a91-42ec-8cfc-526190018ab1"
      },
      "outputs": [
        {
          "output_type": "stream",
          "name": "stdout",
          "text": [
            "FCFS Preemptive Scheduling (Shortest Remaining Time First):\n",
            "Process\tWaiting Time\tTurnaround Time\n",
            "P1\t42\t\t66\n",
            "P2\t3\t\t6\n",
            "P3\t5\t\t8\n",
            "P4\t16\t\t28\n",
            "Average Waiting Time: 16.5\n",
            "Average Turnaround Time: 27.0\n"
          ]
        }
      ],
      "source": [
        "def fcfs_preemptive(arr):\n",
        "    size = len(arr)\n",
        "    tot_time = 0\n",
        "    wait_time = [0] * size\n",
        "    remain_time = [process[2] for process in arr]\n",
        "\n",
        "    print(\"FCFS Preemptive Scheduling (Shortest Remaining Time First):\")\n",
        "    print(\"Process\\tWaiting Time\\tTurnaround Time\")\n",
        "\n",
        "    while any(remain_time):\n",
        "        min_remain_time = float(\"inf\")\n",
        "        min_index = -1\n",
        "\n",
        "        for i in range(size):\n",
        "            if arr[i][1] <= tot_time and remain_time[i] < min_remain_time and remain_time[i] > 0:\n",
        "                min_remain_time = remain_time[i]\n",
        "                min_index = i\n",
        "\n",
        "        if min_index == -1:\n",
        "            tot_time += 1\n",
        "        else:\n",
        "            remain_time[min_index] -= 1\n",
        "            tot_time += 1\n",
        "\n",
        "            if remain_time[min_index] == 0:\n",
        "                wait_time[min_index] = tot_time - arr[min_index][1]\n",
        "\n",
        "    turnaround_time = [wait_time[i] + process[2] for i, process in enumerate(arr)]\n",
        "    avg_wait_time = sum(wait_time) / size\n",
        "    avg_turnaround_time = sum(turnaround_time) / size\n",
        "\n",
        "    for i in range(size):\n",
        "        print(f\"{arr[i][0]}\\t{wait_time[i]}\\t\\t{turnaround_time[i]}\")\n",
        "\n",
        "    print(f\"Average Waiting Time: {avg_wait_time}\")\n",
        "    print(f\"Average Turnaround Time: {avg_turnaround_time}\")\n",
        "\n",
        "if __name__ == \"__main__\":\n",
        "    processes_preemptive_fcfs = [\n",
        "        (\"P1\", 0, 24, 3),\n",
        "        (\"P2\", 4, 3, 1),\n",
        "        (\"P3\", 5, 3, 4),\n",
        "        (\"P4\", 6, 12, 2)\n",
        "    ]\n",
        "\n",
        "    fcfs_preemptive(processes_preemptive_fcfs)\n"
      ]
    },
    {
      "cell_type": "code",
      "source": [
        "from collections import deque\n",
        "\n",
        "def preemptiveRoundRobin(processes, quantum):\n",
        "    n = len(processes)\n",
        "    remain_time = [process[2] for process in processes]\n",
        "    wait_time = [0] * n\n",
        "    turnaround_time = [0] * n\n",
        "    time = 0\n",
        "    queue = deque()\n",
        "\n",
        "    while True:\n",
        "        for i in range(n):\n",
        "            if processes[i][1] <= time and remain_time[i] > 0:\n",
        "                if remain_time[i] > quantum:\n",
        "                    time += quantum\n",
        "                    remain_time[i] -= quantum\n",
        "                    queue.append(i)\n",
        "                else:\n",
        "                    time += remain_time[i]\n",
        "                    wait_time[i] = time - processes[i][1] - processes[i][2]\n",
        "                    remain_time[i] = 0\n",
        "                    turnaround_time[i] = wait_time[i] + processes[i][2]\n",
        "\n",
        "        done = True\n",
        "        for i in range(n):\n",
        "            if remain_time[i] > 0:\n",
        "                done = False\n",
        "                break\n",
        "\n",
        "        if done:\n",
        "            break\n",
        "\n",
        "        queue.append(queue.popleft())\n",
        "\n",
        "    total_wait_time = sum(wait_time)\n",
        "    total_turnaround_time = sum(turnaround_time)\n",
        "    avg_wait_time = total_wait_time / n\n",
        "    avg_turnaround_time = total_turnaround_time / n\n",
        "\n",
        "    print(\"Preemptive Round Robin Scheduling:\")\n",
        "    print(\"Process\\tWaiting Time\\tTurnaround Time\")\n",
        "\n",
        "    for i in range(n):\n",
        "        print(f\"{processes[i][0]}\\t{wait_time[i]}\\t\\t{turnaround_time[i]}\")\n",
        "\n",
        "    print(f\"Average Waiting Time: {avg_wait_time}\")\n",
        "    print(f\"Average Turnaround Time: {avg_turnaround_time}\")\n",
        "\n",
        "if __name__ == \"__main__\":\n",
        "    processes = [\n",
        "        (\"P1\", 0, 24, 3),\n",
        "        (\"P2\", 4, 3, 1),\n",
        "        (\"P3\", 5, 3, 4),\n",
        "        (\"P4\", 6, 12, 2)\n",
        "    ]\n",
        "    quantum = 4\n",
        "\n",
        "    preemptiveRoundRobin(processes, quantum)\n"
      ],
      "metadata": {
        "colab": {
          "base_uri": "https://localhost:8080/"
        },
        "id": "uXziMsOLR8nW",
        "outputId": "d64a5da8-2a03-4b0a-c3fa-bf6eaf3d7833"
      },
      "execution_count": 3,
      "outputs": [
        {
          "output_type": "stream",
          "name": "stdout",
          "text": [
            "Preemptive Round Robin Scheduling:\n",
            "Process\tWaiting Time\tTurnaround Time\n",
            "P1\t18\t\t42\n",
            "P2\t0\t\t3\n",
            "P3\t2\t\t5\n",
            "P4\t12\t\t24\n",
            "Average Waiting Time: 8.0\n",
            "Average Turnaround Time: 18.5\n"
          ]
        }
      ]
    },
    {
      "cell_type": "code",
      "source": [
        "def SJF_preemptive(processes):\n",
        "    n = len(processes)\n",
        "    remain_time = [process['burst_time'] for process in processes]\n",
        "    completed_time = [0] * n\n",
        "    curr_time = 0\n",
        "    total_completed = 0\n",
        "    wt = [0] * n\n",
        "    tat = [0] * n\n",
        "\n",
        "    while total_completed < n:\n",
        "        min_remain_time = float('inf')\n",
        "        min_process_index = -1\n",
        "\n",
        "        for i in range(n):\n",
        "            if (\n",
        "                processes[i]['arrival_time'] <= curr_time\n",
        "                and remain_time[i] < min_remain_time\n",
        "                and remain_time[i] > 0\n",
        "            ):\n",
        "                min_remain_time = remain_time[i]\n",
        "                min_process_index = i\n",
        "\n",
        "        if min_process_index == -1:\n",
        "            curr_time += 1\n",
        "            continue\n",
        "\n",
        "        remain_time[min_process_index] -= 1\n",
        "        curr_time += 1\n",
        "\n",
        "        if remain_time[min_process_index] == 0:\n",
        "            total_completed += 1\n",
        "            completed_time[min_process_index] = curr_time\n",
        "            wt[min_process_index] = completed_time[min_process_index] - processes[min_process_index]['burst_time'] - processes[min_process_index]['arrival_time']\n",
        "            tat[min_process_index] = completed_time[min_process_index] - processes[min_process_index]['arrival_time']\n",
        "\n",
        "    avg_wait_time = sum(wt) / n\n",
        "    avg_turnaround_time = sum(tat) / n\n",
        "\n",
        "    return wt, tat, avg_wait_time, avg_turnaround_time\n",
        "\n",
        "if __name__ == \"__main__\":\n",
        "    processes = [\n",
        "        {\"name\": \"P1\", \"arrival_time\": 0, \"burst_time\": 24, \"priority\": 3},\n",
        "        {\"name\": \"P2\", \"arrival_time\": 4, \"burst_time\": 3, \"priority\": 1},\n",
        "        {\"name\": \"P3\", \"arrival_time\": 5, \"burst_time\": 3, \"priority\": 4},\n",
        "        {\"name\": \"P4\", \"arrival_time\": 6, \"burst_time\": 12, \"priority\": 2},\n",
        "    ]\n",
        "\n",
        "    wt, tat, avg_wait_time, avg_turnaround_time = SJF_preemptive(processes)\n",
        "\n",
        "    print(\"Process\\tWaiting Time\\tTurnaround Time\")\n",
        "    for i in range(len(processes)):\n",
        "        print(f\"{processes[i]['name']}\\t{wt[i]}\\t\\t{tat[i]}\")\n",
        "\n",
        "    print(f\"Average Waiting Time: {avg_wait_time}\")\n",
        "    print(f\"Average Turnaround Time: {avg_turnaround_time}\")\n"
      ],
      "metadata": {
        "colab": {
          "base_uri": "https://localhost:8080/"
        },
        "id": "CtWSkTLzR855",
        "outputId": "3d224bf8-2736-4c4b-c565-18d0fe7a9bf7"
      },
      "execution_count": 4,
      "outputs": [
        {
          "output_type": "stream",
          "name": "stdout",
          "text": [
            "Process\tWaiting Time\tTurnaround Time\n",
            "P1\t18\t\t42\n",
            "P2\t0\t\t3\n",
            "P3\t2\t\t5\n",
            "P4\t4\t\t16\n",
            "Average Waiting Time: 6.0\n",
            "Average Turnaround Time: 16.5\n"
          ]
        }
      ]
    },
    {
      "cell_type": "code",
      "source": [
        "def PS(processes):\n",
        "    n = len(processes)\n",
        "    wt = [0] * n\n",
        "    tat = [0] * n\n",
        "    processes_sorted = sorted(processes, key=lambda x: (x['priority'], x['arrival_time']))\n",
        "    completed_time = processes_sorted[0]['arrival_time']\n",
        "\n",
        "    for i in range(n):\n",
        "        if completed_time < processes_sorted[i]['arrival_time']:\n",
        "            completed_time = processes_sorted[i]['arrival_time']\n",
        "        wt[processes.index(processes_sorted[i])] = completed_time - processes_sorted[i]['arrival_time']\n",
        "        completed_time += processes_sorted[i]['burst_time']\n",
        "        tat[processes.index(processes_sorted[i])] = wt[processes.index(processes_sorted[i])] + processes_sorted[i]['burst_time']\n",
        "\n",
        "    return wt, tat\n",
        "\n",
        "if __name__ == \"__main__\":\n",
        "    processes = [\n",
        "        {\"name\": \"P1\", \"arrival_time\": 0, \"burst_time\": 24, \"priority\": 3},\n",
        "    {\"name\": \"P2\", \"arrival_time\": 4, \"burst_time\": 3, \"priority\": 1},\n",
        "    {\"name\": \"P3\", \"arrival_time\": 5, \"burst_time\": 3, \"priority\": 4},\n",
        "    {\"name\": \"P4\", \"arrival_time\": 6, \"burst_time\": 12, \"priority\": 2}\n",
        "    ]\n",
        "\n",
        "\n",
        "    wt, tat = PS(processes)\n",
        "\n",
        "    print(\"Process\\tWaiting Time\\tTurnaround Time\")\n",
        "    for i in range(len(processes)):\n",
        "        print(f\"{processes[i]['name']}\\t{wt[i]}\\t\\t{tat[i]}\")\n",
        "\n",
        "    avg_wait_time = sum(wt) / len(processes)\n",
        "    avg_turnaround_time = sum(tat) / len(processes)\n",
        "\n",
        "    print(f\"Average Waiting Time: {avg_wait_time}\")\n",
        "    print(f\"Average Turnaround Time: {avg_turnaround_time}\")\n"
      ],
      "metadata": {
        "colab": {
          "base_uri": "https://localhost:8080/"
        },
        "id": "CLuHUPmmR9NT",
        "outputId": "f39df162-47b9-4046-c9ff-b7173ddb2a22"
      },
      "execution_count": 5,
      "outputs": [
        {
          "output_type": "stream",
          "name": "stdout",
          "text": [
            "Process\tWaiting Time\tTurnaround Time\n",
            "P1\t19\t\t43\n",
            "P2\t0\t\t3\n",
            "P3\t38\t\t41\n",
            "P4\t1\t\t13\n",
            "Average Waiting Time: 14.5\n",
            "Average Turnaround Time: 25.0\n"
          ]
        }
      ]
    }
  ]
}