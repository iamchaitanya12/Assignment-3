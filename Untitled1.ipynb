{
  "nbformat": 4,
  "nbformat_minor": 0,
  "metadata": {
    "colab": {
      "provenance": []
    },
    "kernelspec": {
      "name": "python3",
      "display_name": "Python 3"
    },
    "language_info": {
      "name": "python"
    }
  },
  "cells": [
    {
      "cell_type": "code",
      "execution_count": 2,
      "metadata": {
        "colab": {
          "base_uri": "https://localhost:8080/"
        },
        "id": "6VLK2eWtOdop",
        "outputId": "cfc43100-0a91-42ec-8cfc-526190018ab1"
      },
      "outputs": [
        {
          "output_type": "stream",
          "name": "stdout",
          "text": [
            "FCFS Preemptive Scheduling (Shortest Remaining Time First):\n",
            "Process\tWaiting Time\tTurnaround Time\n",
            "P1\t42\t\t66\n",
            "P2\t3\t\t6\n",
            "P3\t5\t\t8\n",
            "P4\t16\t\t28\n",
            "Average Waiting Time: 16.5\n",
            "Average Turnaround Time: 27.0\n"
          ]
        }
      ],
      "source": [
        "def fcfs_preemptive(arr):\n",
        "    size = len(arr)\n",
        "    tot_time = 0\n",
        "    wait_time = [0] * size\n",
        "    remain_time = [process[2] for process in arr]\n",
        "\n",
        "    print(\"FCFS Preemptive Scheduling (Shortest Remaining Time First):\")\n",
        "    print(\"Process\\tWaiting Time\\tTurnaround Time\")\n",
        "\n",
        "    while any(remain_time):\n",
        "        min_remain_time = float(\"inf\")\n",
        "        min_index = -1\n",
        "\n",
        "        for i in range(size):\n",
        "            if arr[i][1] <= tot_time and remain_time[i] < min_remain_time and remain_time[i] > 0:\n",
        "                min_remain_time = remain_time[i]\n",
        "                min_index = i\n",
        "\n",
        "        if min_index == -1:\n",
        "            tot_time += 1\n",
        "        else:\n",
        "            remain_time[min_index] -= 1\n",
        "            tot_time += 1\n",
        "\n",
        "            if remain_time[min_index] == 0:\n",
        "                wait_time[min_index] = tot_time - arr[min_index][1]\n",
        "\n",
        "    turnaround_time = [wait_time[i] + process[2] for i, process in enumerate(arr)]\n",
        "    avg_wait_time = sum(wait_time) / size\n",
        "    avg_turnaround_time = sum(turnaround_time) / size\n",
        "\n",
        "    for i in range(size):\n",
        "        print(f\"{arr[i][0]}\\t{wait_time[i]}\\t\\t{turnaround_time[i]}\")\n",
        "\n",
        "    print(f\"Average Waiting Time: {avg_wait_time}\")\n",
        "    print(f\"Average Turnaround Time: {avg_turnaround_time}\")\n",
        "\n",
        "if __name__ == \"__main__\":\n",
        "    processes_preemptive_fcfs = [\n",
        "        (\"P1\", 0, 24, 3),\n",
        "        (\"P2\", 4, 3, 1),\n",
        "        (\"P3\", 5, 3, 4),\n",
        "        (\"P4\", 6, 12, 2)\n",
        "    ]\n",
        "\n",
        "    fcfs_preemptive(processes_preemptive_fcfs)\n"
      ]
    }
  ]
}